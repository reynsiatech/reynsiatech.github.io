{
 "cells": [
  {
   "cell_type": "markdown",
   "metadata": {},
   "source": [
    "# Introduction\n",
    "\n",
    "- Following code is for retrieving data of iitk students from the iitk server using their roll number. <br>\n",
    "- In roll_no_list, append all the roll numbers whose name and email you want to retrieve from the server. <br>\n",
    "- If you are outside from IIT Kanpur, then don't forget to use ssl-vpn proxy."
   ]
  },
  {
   "cell_type": "markdown",
   "metadata": {},
   "source": [
    "## Import Libraries"
   ]
  },
  {
   "cell_type": "code",
   "execution_count": 2,
   "metadata": {},
   "outputs": [],
   "source": [
    "from bs4 import BeautifulSoup\n",
    "import urllib.request as urllib2\n",
    "import requests\n",
    "import re\n",
    "import pandas as pd\n",
    "\n",
    "import email\n",
    "import smtplib\n",
    "import ssl\n",
    "\n",
    "from email.mime.multipart import MIMEMultipart\n",
    "from email.mime.text import MIMEText"
   ]
  },
  {
   "cell_type": "code",
   "execution_count": 16,
   "metadata": {},
   "outputs": [],
   "source": [
    "# Save roll numbers in roll_no_list\n",
    "\n",
    "roll_no_list = []\n",
    "\n",
    "# for y19\n",
    "for i in range(1000):\n",
    "    roll = 190001 + i\n",
    "    roll_no_list.append(roll)\n",
    "\n",
    "roll_no_list.append(15807678)"
   ]
  },
  {
   "cell_type": "markdown",
   "metadata": {},
   "source": [
    "## Extracting Data from IITK Server"
   ]
  },
  {
   "cell_type": "code",
   "execution_count": 17,
   "metadata": {},
   "outputs": [],
   "source": [
    "s = requests.Session()\n",
    "s.get(\"https://oa.cc.iitk.ac.in/Oa/Jsp/Main_Frameset.jsp\")\n",
    "s.get(\"https://oa.cc.iitk.ac.in/Oa/Jsp/Main_Intro.jsp?frm='SRCH'\")\n",
    "s.get(\"https://oa.cc.iitk.ac.in/Oa/Jsp/OAServices/IITK_Srch.jsp?typ=stud\")\n",
    "\n",
    "\n",
    "headers1 = {\n",
    "    \"Referer\": \"https://oa.cc.iitk.ac.in/Oa/Jsp/OAServices/IITk_SrchStudRoll_new.jsp\"\n",
    "}\n",
    "\n",
    "payload1 = {\n",
    "    'typ': ['stud'] * 12,\n",
    "    'numtxt': '',\n",
    "    'sbm': ['Y'] * 12\n",
    "}"
   ]
  },
  {
   "cell_type": "code",
   "execution_count": 1,
   "metadata": {},
   "outputs": [],
   "source": [
    "record = []\n",
    "# roll_no_list = [15807678]\n",
    "for roll in roll_no_list:\n",
    "    payload1['numtxt'] = roll\n",
    "    r1 = s.post(\"https://oa.cc.iitk.ac.in/Oa/Jsp/OAServices/IITk_SrchRes_new.jsp\", headers=headers1, data=payload1)\n",
    "    soup1 = BeautifulSoup(r1.text, 'html.parser')\n",
    "\n",
    "    name = ''\n",
    "    email = ''\n",
    "    department = ''\n",
    "    gender = ''\n",
    "\n",
    "    for para in soup1.select('.TableContent p'):\n",
    "        body = para.get_text().strip()\n",
    "        field = body.split(':')\n",
    "        key = field[0].strip()\n",
    "        value = field[1].strip()\n",
    "        if key == 'Name':\n",
    "            name = value.lower().title()\n",
    "        elif key == 'E-Mail':\n",
    "            email = value\n",
    "        elif key == 'Department':\n",
    "            department = value\n",
    "        elif key == 'Gender':\n",
    "            gender = value[0]\n",
    "\n",
    "    if name != \"\" and email != \"\" and email != \"Not Available\":\n",
    "        data = [name, email, department, gender, roll]\n",
    "        record.append(data)\n",
    "        user_name = name.split(\" \")[0]\n",
    "#         print (name, email, department, gender, roll)\n",
    "\n",
    "df = pd.DataFrame(record, columns = ['Name', 'Email', 'Department', 'Gender', 'Roll No']) \n",
    "df.to_csv('y19_students.csv', encoding='utf-8', index=False)\n"
   ]
  },
  {
   "cell_type": "code",
   "execution_count": null,
   "metadata": {},
   "outputs": [],
   "source": []
  },
  {
   "cell_type": "code",
   "execution_count": null,
   "metadata": {},
   "outputs": [],
   "source": []
  },
  {
   "cell_type": "code",
   "execution_count": null,
   "metadata": {},
   "outputs": [],
   "source": []
  },
  {
   "cell_type": "markdown",
   "metadata": {},
   "source": [
    "# Sending mail to recipients"
   ]
  },
  {
   "cell_type": "code",
   "execution_count": 51,
   "metadata": {},
   "outputs": [],
   "source": [
    "def send_mail(user_name, user_mail_id):\n",
    "\n",
    "    email_admin = 'xyz@gmail.com'\n",
    "    admin_password = 'FuckItHard'\n",
    "\n",
    "    server = smtplib.SMTP('smtp.gmail.com', 587)\n",
    "    server.starttls()\n",
    "    server.login(email_admin, admin_password)\n",
    "\n",
    "    msg = MIMEMultipart()\n",
    "    msg['From'] = \"Admin of XYZ company\"\n",
    "    msg['To'] = user_mail_id\n",
    "    msg['Subject'] = \"Information regarding your company\"\n",
    "\n",
    "    message = \"\"\"\\\n",
    "    <html>\n",
    "    <body>\n",
    "    <p style=\"font-size: 13px; color: black;\">\n",
    "    Dear {user_name},<br><br>\n",
    "    Thanks for signing up on BechDe to sell your cycle.<br><br>\n",
    "    We are glad to inform you that the proceedings for your cycle sale will take place on 30th April.<br><br>\n",
    "    You will need to park your cycle at a time and place which will be communicated to you as soon as possible.<br><br>\n",
    "    The process will be as follows,<br>\n",
    "    1. Park your cycles at the designated place (will be communicated).<br>\n",
    "    2. Collect declaration form and handover keys.<br>\n",
    "    3. Agree/Disagree to quoted price<br>\n",
    "    4. If Agree, Send image of declaration form/ If disagree, cycle keys will be delivered.<br>\n",
    "    5. Incase of agreement, money delivered to you.<br><br>\n",
    "    We hope to deliver great prices and a hassle free service.<br><br>\n",
    "    Incase of any inconvenience with the allotted slot, please contact Team BechDe!<br><br>\n",
    "    Disclaimer:<br>\n",
    "    * Sale of cycle is subject to your agreement to the quoted price which will be final<br>\n",
    "    * Only owner of the cycles will be entertained, no third party involvement will be allowed for the same<br>\n",
    "    * The sale will be considered complete, only after sharing of the declaration form<br><br>\n",
    "\n",
    "    Regards,<br>\n",
    "    Team Bech De<br><br>\n",
    "    For any query, WhatsApp us: +91-930-558-8411\n",
    "    </p>\n",
    "    </body>\n",
    "    </html>\n",
    "    \"\"\".format(user_name = user_name)\n",
    "\n",
    "    msg.attach(MIMEText(message, 'html'))\n",
    "    text = msg.as_string()\n",
    "    server.sendmail(bechde_admin, user_mail_id, text)\n",
    "\n",
    "    server.quit()"
   ]
  },
  {
   "cell_type": "code",
   "execution_count": null,
   "metadata": {},
   "outputs": [],
   "source": [
    "send_mail(user_name, email)"
   ]
  },
  {
   "cell_type": "code",
   "execution_count": null,
   "metadata": {},
   "outputs": [],
   "source": []
  },
  {
   "cell_type": "code",
   "execution_count": null,
   "metadata": {},
   "outputs": [],
   "source": []
  }
 ],
 "metadata": {
  "kernelspec": {
   "display_name": "Python 3",
   "language": "python",
   "name": "python3"
  },
  "language_info": {
   "codemirror_mode": {
    "name": "ipython",
    "version": 3
   },
   "file_extension": ".py",
   "mimetype": "text/x-python",
   "name": "python",
   "nbconvert_exporter": "python",
   "pygments_lexer": "ipython3",
   "version": "3.7.3"
  }
 },
 "nbformat": 4,
 "nbformat_minor": 2
}
