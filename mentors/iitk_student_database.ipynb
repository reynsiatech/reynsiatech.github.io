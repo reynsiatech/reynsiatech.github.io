{
 "cells": [
  {
   "cell_type": "markdown",
   "metadata": {},
   "source": [
    "# Introduction\n",
    "\n",
    "- Following code is for retrieving data of iitk students from the iitk server using their roll number. <br>\n",
    "- In roll_no_list, append all the roll numbers whose name and email you want to retrieve from the server. <br>\n",
    "- If you are outside from IIT Kanpur, then don't forget to use ssl-vpn proxy.\n",
    "<br><br>\n",
    "Change Gmail settings - https://myaccount.google.com/lesssecureapps"
   ]
  },
  {
   "cell_type": "markdown",
   "metadata": {},
   "source": [
    "## Import Libraries"
   ]
  },
  {
   "cell_type": "code",
   "execution_count": 1,
   "metadata": {},
   "outputs": [],
   "source": [
    "from bs4 import BeautifulSoup\n",
    "import urllib.request as urllib2\n",
    "import requests\n",
    "import re\n",
    "import pandas as pd\n",
    "\n",
    "import email\n",
    "import smtplib\n",
    "import ssl\n",
    "\n",
    "from email.mime.multipart import MIMEMultipart\n",
    "from email.mime.text import MIMEText"
   ]
  },
  {
   "cell_type": "code",
   "execution_count": 16,
   "metadata": {},
   "outputs": [],
   "source": [
    "# Save roll numbers in roll_no_list\n",
    "\n",
    "roll_no_list = []\n",
    "\n",
    "# for y19\n",
    "for i in range(1000):\n",
    "    roll = 190001 + i\n",
    "    roll_no_list.append(roll)\n",
    "\n",
    "roll_no_list.append(15807678)"
   ]
  },
  {
   "cell_type": "markdown",
   "metadata": {},
   "source": [
    "## Extracting Data from IITK Server"
   ]
  },
  {
   "cell_type": "code",
   "execution_count": 17,
   "metadata": {},
   "outputs": [],
   "source": [
    "s = requests.Session()\n",
    "s.get(\"https://oa.cc.iitk.ac.in/Oa/Jsp/Main_Frameset.jsp\")\n",
    "s.get(\"https://oa.cc.iitk.ac.in/Oa/Jsp/Main_Intro.jsp?frm='SRCH'\")\n",
    "s.get(\"https://oa.cc.iitk.ac.in/Oa/Jsp/OAServices/IITK_Srch.jsp?typ=stud\")\n",
    "\n",
    "\n",
    "headers1 = {\n",
    "    \"Referer\": \"https://oa.cc.iitk.ac.in/Oa/Jsp/OAServices/IITk_SrchStudRoll_new.jsp\"\n",
    "}\n",
    "\n",
    "payload1 = {\n",
    "    'typ': ['stud'] * 12,\n",
    "    'numtxt': '',\n",
    "    'sbm': ['Y'] * 12\n",
    "}"
   ]
  },
  {
   "cell_type": "code",
   "execution_count": 1,
   "metadata": {},
   "outputs": [],
   "source": [
    "record = []\n",
    "# roll_no_list = [15807678]\n",
    "for roll in roll_no_list:\n",
    "    payload1['numtxt'] = roll\n",
    "    r1 = s.post(\"https://oa.cc.iitk.ac.in/Oa/Jsp/OAServices/IITk_SrchRes_new.jsp\", headers=headers1, data=payload1)\n",
    "    soup1 = BeautifulSoup(r1.text, 'html.parser')\n",
    "\n",
    "    name = ''\n",
    "    email = ''\n",
    "    department = ''\n",
    "    gender = ''\n",
    "\n",
    "    for para in soup1.select('.TableContent p'):\n",
    "        body = para.get_text().strip()\n",
    "        field = body.split(':')\n",
    "        key = field[0].strip()\n",
    "        value = field[1].strip()\n",
    "        if key == 'Name':\n",
    "            name = value.lower().title()\n",
    "        elif key == 'E-Mail':\n",
    "            email = value\n",
    "        elif key == 'Department':\n",
    "            department = value\n",
    "        elif key == 'Gender':\n",
    "            gender = value[0]\n",
    "\n",
    "    if name != \"\" and email != \"\" and email != \"Not Available\":\n",
    "        data = [name, email, department, gender, roll]\n",
    "        record.append(data)\n",
    "        user_name = name.split(\" \")[0]\n",
    "#         print (name, email, department, gender, roll)\n",
    "\n",
    "df = pd.DataFrame(record, columns = ['Name', 'Email', 'Department', 'Gender', 'Roll No']) \n",
    "df.to_csv('y19_students.csv', encoding='utf-8', index=False)\n"
   ]
  },
  {
   "cell_type": "code",
   "execution_count": null,
   "metadata": {},
   "outputs": [],
   "source": []
  },
  {
   "cell_type": "code",
   "execution_count": null,
   "metadata": {},
   "outputs": [],
   "source": []
  },
  {
   "cell_type": "code",
   "execution_count": null,
   "metadata": {},
   "outputs": [],
   "source": []
  },
  {
   "cell_type": "markdown",
   "metadata": {},
   "source": [
    "# Sending mail to recipients"
   ]
  },
  {
   "cell_type": "code",
   "execution_count": 5,
   "metadata": {},
   "outputs": [],
   "source": [
    "def message_template(user_name):\n",
    "    message = \"\"\"\\\n",
    "    \n",
    "    \n",
    "    <html>\n",
    "    <body link=\"#00a5b5\" vlink=\"#00a5b5\" alink=\"#00a5b5\" style=\"margin-top: 20px; margin-bottom: 20px;\">\n",
    "    <div class=\"s12\">\n",
    "        <table class=\" main contenttable\" align=\"center\" style=\"font-weight: normal;border-collapse: collapse;border: 0;margin-left: auto;margin-right: auto;padding: 0;font-family: Arial, sans-serif;color: #555559;background-color: white;font-size: 16px;line-height: 26px;width: 600px;\">\n",
    "            <tr>\n",
    "                <td class=\"border\" style=\"border-collapse: collapse;border: 1px solid #eeeff0;margin: 0;padding: 0;-webkit-text-size-adjust: none;color: #555559;font-family: Arial, sans-serif;font-size: 16px;line-height: 26px;\">\n",
    "                    <table style=\"font-weight: normal;border-collapse: collapse;border: 0;margin: 0;padding: 0;font-family: Arial, sans-serif;\">\n",
    "                        <tr>\n",
    "                            <td colspan=\"4\" valign=\"top\" class=\"image-section\" style=\"border-collapse: collapse;border: 0;margin: 0;padding: 0;-webkit-text-size-adjust: none;color: #fff;font-family: Arial, sans-serif;font-size: 20px;line-height: 26px;background: linear-gradient(45deg, #1de099, #1dc8cd);border-bottom: 0px solid #00a5b5\">\n",
    "                                <h3 style=\"margin: 20px; text-align: center;\">UnchaAI</h3>\n",
    "                            </td>\n",
    "                        </tr>\n",
    "                        <tr>\n",
    "                            <td valign=\"top\" class=\"side title\" style=\"border-collapse: collapse;border: 0;margin: 0;padding: 20px;-webkit-text-size-adjust: none;color: #555559;font-family: Arial, sans-serif;font-size: 16px;line-height: 26px;vertical-align: top;background-color: white;border-top: none;\">\n",
    "                                <table style=\"font-weight: normal;border-collapse: collapse;border: 0;margin: 0;padding: 0;font-family: Arial, sans-serif;\">\n",
    "                                    <tr>\n",
    "                                        <td class=\"head-title\" style=\"border-collapse: collapse;border: 0;margin: 0;padding: 0;-webkit-text-size-adjust: none;color: #555559;font-family: Arial, sans-serif;font-size: 28px;line-height: 34px;font-weight: bold; text-align: center;\">\n",
    "                                            <div class=\"mktEditable\" id=\"main_title\">\n",
    "                                                Paid Internship Program at UnchaAI\n",
    "                                            </div>\n",
    "                                        </td>\n",
    "                                    </tr>\n",
    "                                    <tr>\n",
    "                                        <td class=\"top-padding\" style=\"border-collapse: collapse;border: 0;margin: 0;padding: 15px 0;-webkit-text-size-adjust: none;color: #555559;font-family: Arial, sans-serif;font-size: 16px;line-height: 21px;\">\n",
    "                                            <hr size=\"1\" color=\"#eeeff0\">\n",
    "                                        </td>\n",
    "                                    </tr>\n",
    "                                    <tr>\n",
    "                                        <td class=\"text\" style=\"border-collapse: collapse;border: 0;margin: 0;padding: 0;-webkit-text-size-adjust: none;color: #555559;font-family: Arial, sans-serif;font-size: 16px;line-height: 26px;\">\n",
    "                                        <div class=\"mktEditable\" id=\"main_text\">\n",
    "                                            Hi {name},<br><br>\n",
    "                                            We have internship offer for you, where you have to teach students. If you are interested, please fill the following form:<br><br>\n",
    "                                            <div style=\"text-align: center; font-weight: bold;\"><a href=\"https://reynsiatech.github.io/\" style=\"color: #1e88e5;\">Click here to apply</a></div><br>\n",
    "                                            Have doubts? Feel free to contact us; we&apos;ll be glad to hear from you!\n",
    "                                        </div>\n",
    "                                        </td>\n",
    "                                    </tr>\n",
    "                                    <tr>\n",
    "                                        <td style=\"border-collapse: collapse;border: 0;margin: 0;padding: 0;-webkit-text-size-adjust: none;color: #555559;font-family: Arial, sans-serif;font-size: 16px;line-height: 24px;\">\n",
    "                                         &nbsp;<br>\n",
    "                                        </td>\n",
    "                                    </tr>\n",
    "                                </table>\n",
    "                            </td>\n",
    "                        </tr>\n",
    "                        <tr bgcolor=\"#fff\" style=\"border-top: 4px solid #00a5b5;\">\n",
    "                            <td valign=\"top\" class=\"footer\" style=\"border-collapse: collapse;border: 0;margin: 0;padding: 0;-webkit-text-size-adjust: none;color: #555559;font-family: Arial, sans-serif;font-size: 16px;line-height: 26px;background: #fff;text-align: center;\">\n",
    "                                <table style=\"font-weight: normal;border-collapse: collapse;border: 0;margin: 0;padding: 0;font-family: Arial, sans-serif;\">\n",
    "                                    <tr>\n",
    "                                        <td class=\"inside-footer\" align=\"center\" valign=\"middle\" style=\"border-collapse: collapse;border: 0;margin: 0;padding: 20px;-webkit-text-size-adjust: none;color: #555559;font-family: Arial, sans-serif;font-size: 12px;line-height: 16px;vertical-align: middle;text-align: center;width: 580px;\">\n",
    "                                        <div id=\"address\" class=\"mktEditable\">\n",
    "                                            <b>UnchaAI</b><br>\n",
    "                                            Reynsia Tech Pvt Ltd.<br>\n",
    "                                            <a style=\"color: #00a5b5;\" href=\"https://reynsiatech.github.io/\">Contact Us</a>\n",
    "                                        </div>\n",
    "                                        </td>\n",
    "                                    </tr>\n",
    "                                </table>\n",
    "                            </td>\n",
    "                        </tr>\n",
    "                    </table>\n",
    "                </td>\n",
    "            </tr>\n",
    "        </table>\n",
    "    </div>\n",
    "    </body>\n",
    "    </html>\n",
    "    \n",
    "    \n",
    "    \"\"\".format(name = user_name)\n",
    "    \n",
    "    return message"
   ]
  },
  {
   "cell_type": "code",
   "execution_count": 13,
   "metadata": {},
   "outputs": [],
   "source": [
    "def send_mail(user_name, user_mail_id):\n",
    "\n",
    "    email_admin = 'reynsiatech@gmail.com'\n",
    "    admin_password = 'Unchaaikijeetho'\n",
    "\n",
    "    server = smtplib.SMTP('smtp.gmail.com', 587)\n",
    "    server.starttls()\n",
    "    server.login(email_admin, admin_password)\n",
    "\n",
    "    msg = MIMEMultipart()\n",
    "    msg['From'] = \"Reynsia Tech\"\n",
    "    msg['To'] = user_mail_id\n",
    "    msg['Subject'] = \"Work from home Internship Opportunity\"\n",
    "\n",
    "    message = message_template(user_name)\n",
    "\n",
    "    msg.attach(MIMEText(message, 'html'))\n",
    "    text = msg.as_string()\n",
    "    server.sendmail(email_admin, user_mail_id, text)\n",
    "\n",
    "    server.quit()"
   ]
  },
  {
   "cell_type": "code",
   "execution_count": 15,
   "metadata": {},
   "outputs": [],
   "source": [
    "user_name = \"Shivam Pal\"\n",
    "email = \"shivam.pal128@gmail.com\"\n",
    "send_mail(user_name, email)\n",
    "\n",
    "user_name = \"Shivam Pal\"\n",
    "email = \"shivampa@iitk.ac.in\"\n",
    "send_mail(user_name, email)\n",
    "\n",
    "user_name = \"Deepak Kumar\"\n",
    "email = \"dk24pk@gmail.com\"\n",
    "send_mail(user_name, email)\n",
    "\n",
    "user_name = \"Piyush Patel\"\n",
    "email = \"dapiyushpatel@gmail.com\"\n",
    "send_mail(user_name, email)"
   ]
  },
  {
   "cell_type": "code",
   "execution_count": null,
   "metadata": {},
   "outputs": [],
   "source": []
  },
  {
   "cell_type": "code",
   "execution_count": null,
   "metadata": {},
   "outputs": [],
   "source": []
  }
 ],
 "metadata": {
  "kernelspec": {
   "display_name": "Python 3",
   "language": "python",
   "name": "python3"
  },
  "language_info": {
   "codemirror_mode": {
    "name": "ipython",
    "version": 3
   },
   "file_extension": ".py",
   "mimetype": "text/x-python",
   "name": "python",
   "nbconvert_exporter": "python",
   "pygments_lexer": "ipython3",
   "version": "3.7.3"
  }
 },
 "nbformat": 4,
 "nbformat_minor": 2
}
