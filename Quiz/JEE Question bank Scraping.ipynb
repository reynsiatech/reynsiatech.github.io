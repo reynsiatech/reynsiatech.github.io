{
 "cells": [
  {
   "cell_type": "code",
   "execution_count": 40,
   "metadata": {},
   "outputs": [],
   "source": [
    "from bs4 import BeautifulSoup\n",
    "import pandas as pd"
   ]
  },
  {
   "cell_type": "code",
   "execution_count": 41,
   "metadata": {},
   "outputs": [],
   "source": [
    "with open(\"html_pages/nitrogen_compunds.html\", \"r\") as f:\n",
    "    contents = f.read()\n",
    "    soup = BeautifulSoup(contents, 'lxml')"
   ]
  },
  {
   "cell_type": "code",
   "execution_count": 42,
   "metadata": {},
   "outputs": [],
   "source": [
    "question_container = soup.find_all('div', class_ = 'question-block')\n",
    "question_list = pd.DataFrame(columns = ['quest', 'option_1', 'option_2', 'option_3', 'option_4', 'correct_ans'])\n",
    "\n",
    "for i in range(len(question_container)):\n",
    "    quest_container = question_container[i]\n",
    "    try:\n",
    "        question_tab = quest_container.find('div', class_ = \"tab-content\")\n",
    "        try:\n",
    "            quest_text = question_tab.find('p')\n",
    "        except:\n",
    "            continue\n",
    "        options = question_tab.find_all('span', class_ = \"lbl\")\n",
    "        option_list = []\n",
    "        for option in options:\n",
    "            option_list.append(str(option)[21:-7])\n",
    "        answer = question_tab.find('input', class_ = 'correct-option').get('value')\n",
    "\n",
    "        data = {\n",
    "            \"quest\": quest_text,\n",
    "            \"option_1\": option_list[0],\n",
    "            \"option_2\": option_list[1],\n",
    "            \"option_3\": option_list[2],\n",
    "            \"option_4\": option_list[3],\n",
    "            \"correct_ans\": answer\n",
    "        }\n",
    "\n",
    "        question_list = question_list.append(data, ignore_index = True)\n",
    "    except:\n",
    "        continue"
   ]
  },
  {
   "cell_type": "code",
   "execution_count": 43,
   "metadata": {},
   "outputs": [
    {
     "name": "stdout",
     "output_type": "stream",
     "text": [
      "<class 'pandas.core.frame.DataFrame'>\n",
      "RangeIndex: 204 entries, 0 to 203\n",
      "Data columns (total 6 columns):\n",
      " #   Column       Non-Null Count  Dtype \n",
      "---  ------       --------------  ----- \n",
      " 0   quest        204 non-null    object\n",
      " 1   option_1     204 non-null    object\n",
      " 2   option_2     204 non-null    object\n",
      " 3   option_3     204 non-null    object\n",
      " 4   option_4     204 non-null    object\n",
      " 5   correct_ans  204 non-null    object\n",
      "dtypes: object(6)\n",
      "memory usage: 9.7+ KB\n"
     ]
    }
   ],
   "source": [
    "question_list.info()"
   ]
  },
  {
   "cell_type": "code",
   "execution_count": 44,
   "metadata": {},
   "outputs": [
    {
     "data": {
      "text/plain": [
       "<p>Reduction of nitrobenzene in the presence of Zn /NH<sub>4</sub> Cl gives\n",
       "</p>"
      ]
     },
     "execution_count": 44,
     "metadata": {},
     "output_type": "execute_result"
    }
   ],
   "source": [
    "question_list.iloc[0][\"quest\"]"
   ]
  },
  {
   "cell_type": "code",
   "execution_count": 45,
   "metadata": {},
   "outputs": [
    {
     "data": {
      "text/plain": [
       "(204, 6)"
      ]
     },
     "execution_count": 45,
     "metadata": {},
     "output_type": "execute_result"
    }
   ],
   "source": [
    "question_list.shape"
   ]
  },
  {
   "cell_type": "code",
   "execution_count": 46,
   "metadata": {},
   "outputs": [],
   "source": [
    "question_list.dropna(inplace = True)"
   ]
  },
  {
   "cell_type": "code",
   "execution_count": 47,
   "metadata": {},
   "outputs": [
    {
     "data": {
      "text/plain": [
       "(204, 6)"
      ]
     },
     "execution_count": 47,
     "metadata": {},
     "output_type": "execute_result"
    }
   ],
   "source": [
    "question_list.shape"
   ]
  },
  {
   "cell_type": "code",
   "execution_count": 48,
   "metadata": {},
   "outputs": [],
   "source": [
    "question_list.to_csv(\"files/nitrogen_compunds.csv\")"
   ]
  },
  {
   "cell_type": "code",
   "execution_count": null,
   "metadata": {},
   "outputs": [],
   "source": []
  },
  {
   "cell_type": "code",
   "execution_count": null,
   "metadata": {},
   "outputs": [],
   "source": []
  }
 ],
 "metadata": {
  "kernelspec": {
   "display_name": "Python 3",
   "language": "python",
   "name": "python3"
  },
  "language_info": {
   "codemirror_mode": {
    "name": "ipython",
    "version": 3
   },
   "file_extension": ".py",
   "mimetype": "text/x-python",
   "name": "python",
   "nbconvert_exporter": "python",
   "pygments_lexer": "ipython3",
   "version": "3.7.3"
  }
 },
 "nbformat": 4,
 "nbformat_minor": 4
}
