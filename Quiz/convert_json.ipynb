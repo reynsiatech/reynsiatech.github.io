{
 "cells": [
  {
   "cell_type": "code",
   "execution_count": 20,
   "metadata": {},
   "outputs": [],
   "source": [
    "import pandas as pd\n",
    "import json\n",
    "from bs4 import BeautifulSoup"
   ]
  },
  {
   "cell_type": "code",
   "execution_count": 8,
   "metadata": {},
   "outputs": [],
   "source": [
    "input_file = \"acids.csv\"\n",
    "output_file = \"acids.json\""
   ]
  },
  {
   "cell_type": "code",
   "execution_count": 9,
   "metadata": {},
   "outputs": [],
   "source": [
    "df = pd.read_csv(input_file)"
   ]
  },
  {
   "cell_type": "code",
   "execution_count": 4,
   "metadata": {},
   "outputs": [],
   "source": [
    "df1 = df[[\"quest\", \"option_1\", \"option_2\", \"option_3\", \"option_4\", \"correct_ans\"]]"
   ]
  },
  {
   "cell_type": "code",
   "execution_count": 39,
   "metadata": {},
   "outputs": [],
   "source": [
    "def remove_img_tag(text, text1):\n",
    "    text = '1) <img src=\"./aldehydes_ketones_carboxylic_files/Sec2Cat56SubCat220Q85O1.png\"/> this is working'\n",
    "    text1 = '<img src=\"https://jeefocus.com/assets/images/question/2/Sec2Cat56SubCat220Q85O1.png\"/>'\n",
    "    text = text.split(\"<img\")\n",
    "    remaining_text = text[1].split(\">\")\n",
    "    final_text = text[0] + text1 + remaining_text[1]\n",
    "    return final_text\n",
    "\n",
    "\n",
    "def refine_html(html):\n",
    "    soup = BeautifulSoup(html, 'lxml')\n",
    "    if soup.find('img'):\n",
    "        img_src = soup.find('img').get('src').split(\"/\")[-1]\n",
    "        img_src = 'https://jeefocus.com/assets/images/question/2/' + img_src\n",
    "        img_tag = '<img src=\"' + img_src + '\"/>'\n",
    "        final_text = remove_img_tag(html, img_tag)\n",
    "        return final_text\n",
    "    else:\n",
    "        return html"
   ]
  },
  {
   "cell_type": "code",
   "execution_count": 41,
   "metadata": {},
   "outputs": [],
   "source": [
    "quest_data = {}\n",
    "\n",
    "for i in range(df1.shape[0]):\n",
    "    quest_data[i] = {\n",
    "        \"quest\": refine_html(df1[[\"quest\"]].iloc[i].values[0]),\n",
    "        \"option_1\": refine_html(df1[[\"option_1\"]].iloc[i].values[0]),\n",
    "        \"option_2\": refine_html(df1[[\"option_2\"]].iloc[i].values[0]),\n",
    "        \"option_3\": refine_html(df1[[\"option_3\"]].iloc[i].values[0]),\n",
    "        \"option_4\": refine_html(df1[[\"option_4\"]].iloc[i].values[0]),\n",
    "        \"correct_ans\": str(df1[[\"correct_ans\"]].iloc[i].values[0]),\n",
    "    }"
   ]
  },
  {
   "cell_type": "code",
   "execution_count": 42,
   "metadata": {},
   "outputs": [
    {
     "data": {
      "text/plain": [
       "88"
      ]
     },
     "execution_count": 42,
     "metadata": {},
     "output_type": "execute_result"
    }
   ],
   "source": [
    "len(quest_data)"
   ]
  },
  {
   "cell_type": "code",
   "execution_count": 43,
   "metadata": {},
   "outputs": [],
   "source": [
    "out_file = open(output_file, \"w\")  \n",
    "json.dump(quest_data, out_file, indent = 4)\n",
    "out_file.close()"
   ]
  },
  {
   "cell_type": "code",
   "execution_count": null,
   "metadata": {},
   "outputs": [],
   "source": []
  }
 ],
 "metadata": {
  "kernelspec": {
   "display_name": "Python 3",
   "language": "python",
   "name": "python3"
  },
  "language_info": {
   "codemirror_mode": {
    "name": "ipython",
    "version": 3
   },
   "file_extension": ".py",
   "mimetype": "text/x-python",
   "name": "python",
   "nbconvert_exporter": "python",
   "pygments_lexer": "ipython3",
   "version": "3.7.3"
  }
 },
 "nbformat": 4,
 "nbformat_minor": 4
}
